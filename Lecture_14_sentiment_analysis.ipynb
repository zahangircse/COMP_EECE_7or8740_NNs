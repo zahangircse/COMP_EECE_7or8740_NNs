{
 "cells": [
  {
   "cell_type": "markdown",
   "metadata": {},
   "source": [
    "### Sentiment analysis with RNN (GRU or LSTM)"
   ]
  },
  {
   "cell_type": "code",
   "execution_count": 31,
   "metadata": {},
   "outputs": [],
   "source": [
    "# imdb_lstm.py\n",
    "# LSTM for sentiment analysis on the IMDB dataset\n",
    "# Anaconda3 4.1.1 (Python 3.5.2) Keras 2.1.5 TensorFlow 1.7.0\n",
    "\n",
    "import numpy as np\n",
    "import keras as K\n",
    "import tensorflow as tf\n",
    "import os\n",
    "os.environ['TF_CPP_MIN_LOG_LEVEL']='2'"
   ]
  },
  {
   "cell_type": "markdown",
   "metadata": {},
   "source": [
    "### load database"
   ]
  },
  {
   "cell_type": "code",
   "execution_count": 32,
   "metadata": {},
   "outputs": [
    {
     "name": "stdout",
     "output_type": "stream",
     "text": [
      "Loading data, max unique words = 20000 words\n",
      "\n"
     ]
    }
   ],
   "source": [
    "# 1. load data\n",
    "max_words = 20000\n",
    "print(\"Loading data, max unique words = %d words\\n\" % max_words)\n",
    "(train_x, train_y), (test_x, test_y) = \\\n",
    "  K.datasets.imdb.load_data(seed=1, num_words=max_words)"
   ]
  },
  {
   "cell_type": "code",
   "execution_count": 33,
   "metadata": {},
   "outputs": [],
   "source": [
    "max_review_len = 80\n",
    "train_x = K.preprocessing.sequence.pad_sequences(train_x,\n",
    "  truncating='pre', padding='pre', maxlen=max_review_len)\n",
    "test_x = K.preprocessing.sequence.pad_sequences(test_x,\n",
    "  truncating='pre', padding='pre', maxlen=max_review_len)"
   ]
  },
  {
   "cell_type": "markdown",
   "metadata": {},
   "source": [
    "### Show the description"
   ]
  },
  {
   "cell_type": "code",
   "execution_count": 23,
   "metadata": {},
   "outputs": [
    {
     "name": "stdout",
     "output_type": "stream",
     "text": [
      "# this film was just brilliant casting location scenery story direction everyone's really suited the part they played and you could just imagine being there robert # is an amazing actor and now the same being director # father came from the same scottish island as myself so i loved the fact there was a real connection with this film the witty remarks throughout the film were great it was just brilliant so much that i bought the film as soon as it was released for # and would recommend it to everyone to watch and the fly fishing was amazing really cried at the end it was so sad and you know what they say if you cry at a film it must have been good and this definitely was also # to the two little boy's that played the # of norman and paul they were just brilliant children are often left out of the # list i think because the stars that play them all grown up are such a big profile for the whole film but these children are amazing and should be praised for what they have done don't you think the whole story was so lovely because it was true and was someone's life after all that was shared with us all\n"
     ]
    }
   ],
   "source": [
    "index = imdb.get_word_index()\n",
    "reverse_index = dict([(value, key) for (key, value) in index.items()]) \n",
    "decoded = \" \".join( [reverse_index.get(i - 3, \"#\") for i in data[0]] )\n",
    "print(decoded) "
   ]
  },
  {
   "cell_type": "markdown",
   "metadata": {},
   "source": [
    "### prepare the dataset"
   ]
  },
  {
   "cell_type": "code",
   "execution_count": 34,
   "metadata": {},
   "outputs": [
    {
     "name": "stdout",
     "output_type": "stream",
     "text": [
      "Creating LSTM model\n"
     ]
    }
   ],
   "source": [
    "# 2. define model\n",
    "print(\"Creating LSTM model\")\n",
    "e_init = K.initializers.RandomUniform(-0.01, 0.01, seed=1)\n",
    "init = K.initializers.glorot_uniform(seed=1)\n",
    "simple_adam = K.optimizers.Adam()\n",
    "embed_vec_len = 32  # values per word"
   ]
  },
  {
   "cell_type": "markdown",
   "metadata": {},
   "source": [
    "### Build a model"
   ]
  },
  {
   "cell_type": "code",
   "execution_count": 36,
   "metadata": {},
   "outputs": [
    {
     "name": "stdout",
     "output_type": "stream",
     "text": [
      "_________________________________________________________________\n",
      "Layer (type)                 Output Shape              Param #   \n",
      "=================================================================\n",
      "embedding_2 (Embedding)      (None, None, 32)          640000    \n",
      "_________________________________________________________________\n",
      "lstm_2 (LSTM)                (None, 100)               53200     \n",
      "_________________________________________________________________\n",
      "dense_6 (Dense)              (None, 1)                 101       \n",
      "=================================================================\n",
      "Total params: 693,301\n",
      "Trainable params: 693,301\n",
      "Non-trainable params: 0\n",
      "_________________________________________________________________\n"
     ]
    }
   ],
   "source": [
    "model = K.models.Sequential()\n",
    "model.add(K.layers.embeddings.Embedding(input_dim=max_words,\n",
    "  output_dim=embed_vec_len, embeddings_initializer=e_init,\n",
    "  mask_zero=True))\n",
    "model.add(K.layers.LSTM(units=100, kernel_initializer=init,\n",
    "  dropout=0.2, recurrent_dropout=0.2))  # 100 memory\n",
    "model.add(K.layers.Dense(units=1, kernel_initializer=init,\n",
    "  activation='sigmoid'))\n",
    "\n",
    "model.summary()"
   ]
  },
  {
   "cell_type": "code",
   "execution_count": 39,
   "metadata": {},
   "outputs": [
    {
     "name": "stdout",
     "output_type": "stream",
     "text": [
      "\n",
      "Starting training \n",
      "Epoch 1/3\n",
      "25000/25000 [==============================] - 72s 3ms/step - loss: 0.4697 - acc: 0.7798\n",
      "Epoch 2/3\n",
      "25000/25000 [==============================] - 72s 3ms/step - loss: 0.3155 - acc: 0.8706\n",
      "Epoch 3/3\n",
      "25000/25000 [==============================] - 71s 3ms/step - loss: 0.2478 - acc: 0.9037\n",
      "Training complete \n",
      "\n"
     ]
    }
   ],
   "source": [
    "model.compile(loss='binary_crossentropy', optimizer=simple_adam,\n",
    "  metrics=['acc'])\n",
    "\n",
    "# 3. train model\n",
    "bat_size = 32\n",
    "max_epochs = 3\n",
    "print(\"\\nStarting training \")\n",
    "model.fit(train_x, train_y, epochs=max_epochs,\n",
    "  batch_size=bat_size, shuffle=True, verbose=1) \n",
    "print(\"Training complete \\n\")"
   ]
  },
  {
   "cell_type": "code",
   "execution_count": 40,
   "metadata": {},
   "outputs": [
    {
     "name": "stdout",
     "output_type": "stream",
     "text": [
      "Test data: loss = 0.416879  accuracy = 81.80% \n"
     ]
    }
   ],
   "source": [
    "# 4. evaluate model\n",
    "loss_acc = model.evaluate(test_x, test_y, verbose=0)\n",
    "print(\"Test data: loss = %0.6f  accuracy = %0.2f%% \" % \\\n",
    "  (loss_acc[0], loss_acc[1]*100))\n"
   ]
  },
  {
   "cell_type": "code",
   "execution_count": null,
   "metadata": {},
   "outputs": [],
   "source": []
  }
 ],
 "metadata": {
  "kernelspec": {
   "display_name": "Python 2",
   "language": "python",
   "name": "python2"
  },
  "language_info": {
   "codemirror_mode": {
    "name": "ipython",
    "version": 2
   },
   "file_extension": ".py",
   "mimetype": "text/x-python",
   "name": "python",
   "nbconvert_exporter": "python",
   "pygments_lexer": "ipython2",
   "version": "2.7.12"
  }
 },
 "nbformat": 4,
 "nbformat_minor": 2
}
