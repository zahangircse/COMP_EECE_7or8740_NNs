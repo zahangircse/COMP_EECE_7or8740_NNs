{
 "cells": [
  {
   "cell_type": "code",
   "execution_count": 1,
   "metadata": {
    "ExecuteTime": {
     "end_time": "2016-07-06T23:25:52.986000",
     "start_time": "2016-07-06T23:25:52.454000"
    },
    "collapsed": true
   },
   "outputs": [],
   "source": [
    "import numpy as np\n",
    "import matplotlib.pyplot as plt\n",
    "import matplotlib\n",
    "%matplotlib inline"
   ]
  },
  {
   "cell_type": "code",
   "execution_count": 2,
   "metadata": {
    "ExecuteTime": {
     "end_time": "2016-07-06T23:25:58.288000",
     "start_time": "2016-07-06T23:25:54.225000"
    }
   },
   "outputs": [
    {
     "data": {
      "text/plain": [
       "((50000L, 16L, 16L), (50000L, 2L, 4L))"
      ]
     },
     "execution_count": 2,
     "metadata": {},
     "output_type": "execute_result"
    }
   ],
   "source": [
    "num_imgs = 50000\n",
    "\n",
    "img_size = 16\n",
    "min_rect_size = 3\n",
    "max_rect_size = 8\n",
    "num_objects = 2\n",
    "\n",
    "bboxes = np.zeros((num_imgs, num_objects, 4))\n",
    "imgs = np.zeros((num_imgs, img_size, img_size))\n",
    "shapes = np.zeros((num_imgs, num_objects, 1))\n",
    "\n",
    "for i_img in range(num_imgs):\n",
    "    for i_object in range(num_objects):\n",
    "        if np.random.choice([True, False]):\n",
    "            width, height = np.random.randint(min_rect_size, max_rect_size, size=2)\n",
    "            x = np.random.randint(0, img_size - width)\n",
    "            y = np.random.randint(0, img_size - height)\n",
    "            imgs[i_img, x:x+width, y:y+height] = 1.\n",
    "            bboxes[i_img, i_object] = [x, y, width, height]\n",
    "            shapes[i_img, i_object] = [0]\n",
    "        else:\n",
    "            size = np.random.randint(min_rect_size, max_rect_size)\n",
    "            x, y = np.random.randint(0, img_size - size, size=2)\n",
    "            mask = np.tril_indices(size)\n",
    "            imgs[i_img, x + mask[0], y + mask[1]] = 1.\n",
    "            bboxes[i_img, i_object] = [x, y, size, size]\n",
    "            shapes[i_img, i_object] = [1]\n",
    "        \n",
    "imgs.shape, bboxes.shape"
   ]
  },
  {
   "cell_type": "code",
   "execution_count": 3,
   "metadata": {
    "ExecuteTime": {
     "end_time": "2016-07-06T23:25:58.544000",
     "start_time": "2016-07-06T23:25:58.291000"
    }
   },
   "outputs": [
    {
     "data": {
      "image/png": "[encoded data removed]",
      "text/plain": [
       "<matplotlib.figure.Figure at 0x7547ac8>"
      ]
     },
     "metadata": {},
     "output_type": "display_data"
    }
   ],
   "source": [
    "i = 0\n",
    "# TODO: Why does the array have to be transposed?\n",
    "plt.imshow(imgs[i].T, cmap='Greys', interpolation='none', origin='lower', extent=[0, img_size, 0, img_size])\n",
    "for bbox, shape in zip(bboxes[i], shapes[i]):\n",
    "    plt.gca().add_patch(matplotlib.patches.Rectangle((bbox[0], bbox[1]), bbox[2], bbox[3], ec='r' if shape[0] == 0 else 'y', fc='none'))"
   ]
  },
  {
   "cell_type": "code",
   "execution_count": 4,
   "metadata": {
    "ExecuteTime": {
     "end_time": "2016-07-06T23:25:59.719000",
     "start_time": "2016-07-06T23:25:59.203000"
    }
   },
   "outputs": [
    {
     "data": {
      "text/plain": [
       "((50000L, 256L), -4.0834557957225569e-17, 1.0000000000000016)"
      ]
     },
     "execution_count": 4,
     "metadata": {},
     "output_type": "execute_result"
    }
   ],
   "source": [
    "X = (imgs.reshape(num_imgs, -1) - np.mean(imgs)) / np.std(imgs)\n",
    "X.shape, np.mean(X), np.std(X)"
   ]
  },
  {
   "cell_type": "code",
   "execution_count": 5,
   "metadata": {
    "ExecuteTime": {
     "end_time": "2016-07-06T23:26:00.476000",
     "start_time": "2016-07-06T23:26:00.464000"
    }
   },
   "outputs": [
    {
     "data": {
      "text/plain": [
       "(50000L, 10L)"
      ]
     },
     "execution_count": 5,
     "metadata": {},
     "output_type": "execute_result"
    }
   ],
   "source": [
    "# TODO: We use binary classification here - for multiple classes, convert classes to one-hot vectors.\n",
    "y = np.concatenate([bboxes / img_size, shapes], axis=-1).reshape(num_imgs, -1)\n",
    "y.shape"
   ]
  },
  {
   "cell_type": "code",
   "execution_count": 6,
   "metadata": {
    "ExecuteTime": {
     "end_time": "2016-07-06T23:26:01.233000",
     "start_time": "2016-07-06T23:26:01.226000"
    },
    "collapsed": true
   },
   "outputs": [],
   "source": [
    "i = int(0.8 * num_imgs)\n",
    "train_X = X[:i]\n",
    "test_X = X[i:]\n",
    "train_y = y[:i]\n",
    "test_y = y[i:]\n",
    "test_imgs = imgs[i:]\n",
    "test_bboxes = bboxes[i:]"
   ]
  },
  {
   "cell_type": "code",
   "execution_count": 7,
   "metadata": {
    "ExecuteTime": {
     "end_time": "2016-07-06T23:26:06.005000",
     "start_time": "2016-07-06T23:26:02.162000"
    }
   },
   "outputs": [
    {
     "name": "stderr",
     "output_type": "stream",
     "text": [
      "Using Theano backend.\n"
     ]
    }
   ],
   "source": [
    "from keras.models import Sequential\n",
    "from keras.layers import Dense, Activation, Dropout\n",
    "from keras.optimizers import SGD\n",
    "model = Sequential([\n",
    "        Dense(256, input_dim=X.shape[-1]), \n",
    "        Activation('relu'), \n",
    "        Dropout(0.4), \n",
    "        Dense(y.shape[-1])\n",
    "    ])\n",
    "model.compile('adadelta', 'mse')"
   ]
  },
  {
   "cell_type": "code",
   "execution_count": 8,
   "metadata": {
    "ExecuteTime": {
     "end_time": "2016-07-06T23:32:54.867000",
     "start_time": "2016-07-06T23:26:06.009000"
    },
    "code_folding": [
     2,
     17
    ]
   },
   "outputs": [
    {
     "name": "stdout",
     "output_type": "stream",
     "text": [
      "Epoch 0\n",
      "Train on 40000 samples, validate on 10000 samples\n",
      "Epoch 1/1\n",
      "5s - loss: 0.1568 - val_loss: 0.0559\n",
      "Flipped 19200.0 training samples (48.0 %)\n",
      "Mean IOU: 0.242985636173\n",
      "Mean dist: 0.197557964071\n",
      "\n",
      "Epoch 1\n",
      "Train on 40000 samples, validate on 10000 samples\n",
      "Epoch 1/1\n",
      "5s - loss: 0.0557 - val_loss: 0.0501\n",
      "Flipped 10275.0 training samples (25.6875 %)\n",
      "Mean IOU: 0.279607567133\n",
      "Mean dist: 0.180107625927\n",
      "\n",
      "Epoch 2\n",
      "Train on 40000 samples, validate on 10000 samples\n",
      "Epoch 1/1\n",
      "5s - loss: 0.0492 - val_loss: 0.0484\n",
      "Flipped 7191.0 training samples (17.9775 %)\n",
      "Mean IOU: 0.319445985247\n",
      "Mean dist: 0.160972388048\n",
      "\n",
      "Epoch 3\n",
      "Train on 40000 samples, validate on 10000 samples\n",
      "Epoch 1/1\n",
      "4s - loss: 0.0442 - val_loss: 0.0493\n",
      "Flipped 4605.0 training samples (11.5125 %)\n",
      "Mean IOU: 0.362110983162\n",
      "Mean dist: 0.142787179212\n",
      "\n",
      "Epoch 4\n",
      "Train on 40000 samples, validate on 10000 samples\n",
      "Epoch 1/1\n",
      "4s - loss: 0.0397 - val_loss: 0.0514\n",
      "Flipped 2731.0 training samples (6.8275 %)\n",
      "Mean IOU: 0.398454722176\n",
      "Mean dist: 0.126876902916\n",
      "\n",
      "Epoch 5\n",
      "Train on 40000 samples, validate on 10000 samples\n",
      "Epoch 1/1\n",
      "4s - loss: 0.0365 - val_loss: 0.0521\n",
      "Flipped 2014.0 training samples (5.035 %)\n",
      "Mean IOU: 0.42149196072\n",
      "Mean dist: 0.118305101417\n",
      "\n",
      "Epoch 6\n",
      "Train on 40000 samples, validate on 10000 samples\n",
      "Epoch 1/1\n",
      "4s - loss: 0.0342 - val_loss: 0.0532\n",
      "Flipped 1499.0 training samples (3.7475 %)\n",
      "Mean IOU: 0.438339288177\n",
      "Mean dist: 0.111296744747\n",
      "\n",
      "Epoch 7\n",
      "Train on 40000 samples, validate on 10000 samples\n",
      "Epoch 1/1\n",
      "4s - loss: 0.0322 - val_loss: 0.0542\n",
      "Flipped 1367.0 training samples (3.4175 %)\n",
      "Mean IOU: 0.458791583308\n",
      "Mean dist: 0.104734359959\n",
      "\n",
      "Epoch 8\n",
      "Train on 40000 samples, validate on 10000 samples\n",
      "Epoch 1/1\n",
      "4s - loss: 0.0309 - val_loss: 0.0538\n",
      "Flipped 1145.0 training samples (2.8625 %)\n",
      "Mean IOU: 0.460957146178\n",
      "Mean dist: 0.103087726083\n",
      "\n",
      "Epoch 9\n",
      "Train on 40000 samples, validate on 10000 samples\n",
      "Epoch 1/1\n",
      "5s - loss: 0.0298 - val_loss: 0.0544\n",
      "Flipped 1071.0 training samples (2.6775 %)\n",
      "Mean IOU: 0.472695257841\n",
      "Mean dist: 0.0997398846543\n",
      "\n",
      "Epoch 10\n",
      "Train on 40000 samples, validate on 10000 samples\n",
      "Epoch 1/1\n",
      "4s - loss: 0.0289 - val_loss: 0.0546\n",
      "Flipped 982.0 training samples (2.455 %)\n",
      "Mean IOU: 0.475498423504\n",
      "Mean dist: 0.0987868952204\n",
      "\n",
      "Epoch 11\n",
      "Train on 40000 samples, validate on 10000 samples\n",
      "Epoch 1/1\n",
      "4s - loss: 0.0281 - val_loss: 0.0547\n",
      "Flipped 923.0 training samples (2.3075 %)\n",
      "Mean IOU: 0.488416947873\n",
      "Mean dist: 0.0947622980352\n",
      "\n",
      "Epoch 12\n",
      "Train on 40000 samples, validate on 10000 samples\n",
      "Epoch 1/1\n",
      "4s - loss: 0.0273 - val_loss: 0.0546\n",
      "Flipped 836.0 training samples (2.09 %)\n",
      "Mean IOU: 0.48874462737\n",
      "Mean dist: 0.0939458890792\n",
      "\n",
      "Epoch 13\n",
      "Train on 40000 samples, validate on 10000 samples\n",
      "Epoch 1/1\n",
      "4s - loss: 0.0266 - val_loss: 0.0552\n",
      "Flipped 854.0 training samples (2.135 %)\n",
      "Mean IOU: 0.492589727087\n",
      "Mean dist: 0.0929735561502\n",
      "\n",
      "Epoch 14\n",
      "Train on 40000 samples, validate on 10000 samples\n",
      "Epoch 1/1\n",
      "4s - loss: 0.0260 - val_loss: 0.0555\n",
      "Flipped 840.0 training samples (2.1 %)\n",
      "Mean IOU: 0.49697117486\n",
      "Mean dist: 0.0918255879526\n",
      "\n",
      "Epoch 15\n",
      "Train on 40000 samples, validate on 10000 samples\n",
      "Epoch 1/1\n",
      "4s - loss: 0.0257 - val_loss: 0.0549\n",
      "Flipped 938.0 training samples (2.345 %)\n",
      "Mean IOU: 0.498299255798\n",
      "Mean dist: 0.0906791499878\n",
      "\n",
      "Epoch 16\n",
      "Train on 40000 samples, validate on 10000 samples\n",
      "Epoch 1/1\n",
      "4s - loss: 0.0254 - val_loss: 0.0554\n",
      "Flipped 864.0 training samples (2.16 %)\n",
      "Mean IOU: 0.502686649386\n",
      "Mean dist: 0.0897506966331\n",
      "\n",
      "Epoch 17\n",
      "Train on 40000 samples, validate on 10000 samples\n",
      "Epoch 1/1\n",
      "4s - loss: 0.0250 - val_loss: 0.0558\n",
      "Flipped 919.0 training samples (2.2975 %)\n",
      "Mean IOU: 0.501087879733\n",
      "Mean dist: 0.0898817176063\n",
      "\n",
      "Epoch 18\n",
      "Train on 40000 samples, validate on 10000 samples\n",
      "Epoch 1/1\n",
      "4s - loss: 0.0245 - val_loss: 0.0553\n",
      "Flipped 789.0 training samples (1.9725 %)\n",
      "Mean IOU: 0.510024924944\n",
      "Mean dist: 0.0866388306772\n",
      "\n",
      "Epoch 19\n",
      "Train on 40000 samples, validate on 10000 samples\n",
      "Epoch 1/1\n",
      "4s - loss: 0.0243 - val_loss: 0.0554\n",
      "Flipped 816.0 training samples (2.04 %)\n",
      "Mean IOU: 0.509864361663\n",
      "Mean dist: 0.0867276995739\n",
      "\n",
      "Epoch 20\n",
      "Train on 40000 samples, validate on 10000 samples\n",
      "Epoch 1/1\n",
      "4s - loss: 0.0240 - val_loss: 0.0556\n",
      "Flipped 801.0 training samples (2.0025 %)\n",
      "Mean IOU: 0.512294895195\n",
      "Mean dist: 0.0862244741229\n",
      "\n",
      "Epoch 21\n",
      "Train on 40000 samples, validate on 10000 samples\n",
      "Epoch 1/1\n",
      "4s - loss: 0.0236 - val_loss: 0.0555\n",
      "Flipped 745.0 training samples (1.8625 %)\n",
      "Mean IOU: 0.515253308823\n",
      "Mean dist: 0.0849313586484\n",
      "\n",
      "Epoch 22\n",
      "Train on 40000 samples, validate on 10000 samples\n",
      "Epoch 1/1\n",
      "4s - loss: 0.0235 - val_loss: 0.0552\n",
      "Flipped 847.0 training samples (2.1175 %)\n",
      "Mean IOU: 0.509704473702\n",
      "Mean dist: 0.0860384929421\n",
      "\n",
      "Epoch 23\n",
      "Train on 40000 samples, validate on 10000 samples\n",
      "Epoch 1/1\n",
      "4s - loss: 0.0231 - val_loss: 0.0554\n",
      "Flipped 805.0 training samples (2.0125 %)\n",
      "Mean IOU: 0.522583586843\n",
      "Mean dist: 0.082750892523\n",
      "\n",
      "Epoch 24\n",
      "Train on 40000 samples, validate on 10000 samples\n",
      "Epoch 1/1\n",
      "4s - loss: 0.0231 - val_loss: 0.0559\n",
      "Flipped 795.0 training samples (1.9875 %)\n",
      "Mean IOU: 0.5220165657\n",
      "Mean dist: 0.0833447329007\n",
      "\n",
      "Epoch 25\n",
      "Train on 40000 samples, validate on 10000 samples\n",
      "Epoch 1/1\n",
      "5s - loss: 0.0228 - val_loss: 0.0554\n",
      "Flipped 692.0 training samples (1.73 %)\n",
      "Mean IOU: 0.518472561734\n",
      "Mean dist: 0.0832177979367\n",
      "\n",
      "Epoch 26\n",
      "Train on 40000 samples, validate on 10000 samples\n",
      "Epoch 1/1\n",
      "4s - loss: 0.0227 - val_loss: 0.0560\n",
      "Flipped 715.0 training samples (1.7875 %)\n",
      "Mean IOU: 0.531976024594\n",
      "Mean dist: 0.0807062015938\n",
      "\n",
      "Epoch 27\n",
      "Train on 40000 samples, validate on 10000 samples\n",
      "Epoch 1/1\n",
      "4s - loss: 0.0225 - val_loss: 0.0558\n",
      "Flipped 755.0 training samples (1.8875 %)\n",
      "Mean IOU: 0.527110370286\n",
      "Mean dist: 0.0818592475274\n",
      "\n",
      "Epoch 28\n",
      "Train on 40000 samples, validate on 10000 samples\n",
      "Epoch 1/1\n",
      "4s - loss: 0.0223 - val_loss: 0.0558\n",
      "Flipped 664.0 training samples (1.66 %)\n",
      "Mean IOU: 0.524141956699\n",
      "Mean dist: 0.0824798966059\n",
      "\n",
      "Epoch 29\n",
      "Train on 40000 samples, validate on 10000 samples\n",
      "Epoch 1/1\n",
      "4s - loss: 0.0220 - val_loss: 0.0563\n",
      "Flipped 833.0 training samples (2.0825 %)\n",
      "Mean IOU: 0.531040570366\n",
      "Mean dist: 0.0800875488942\n",
      "\n",
      "Epoch 30\n",
      "Train on 40000 samples, validate on 10000 samples\n",
      "Epoch 1/1\n",
      "4s - loss: 0.0219 - val_loss: 0.0564\n",
      "Flipped 856.0 training samples (2.14 %)\n",
      "Mean IOU: 0.532365466129\n",
      "Mean dist: 0.0798171989575\n",
      "\n",
      "Epoch 31\n",
      "Train on 40000 samples, validate on 10000 samples\n",
      "Epoch 1/1\n",
      "4s - loss: 0.0218 - val_loss: 0.0560\n",
      "Flipped 666.0 training samples (1.665 %)\n",
      "Mean IOU: 0.532150241524\n",
      "Mean dist: 0.0805836183106\n",
      "\n",
      "Epoch 32\n",
      "Train on 40000 samples, validate on 10000 samples\n",
      "Epoch 1/1\n",
      "4s - loss: 0.0216 - val_loss: 0.0562\n",
      "Flipped 750.0 training samples (1.875 %)\n",
      "Mean IOU: 0.53260218024\n",
      "Mean dist: 0.0799956398766\n",
      "\n",
      "Epoch 33\n",
      "Train on 40000 samples, validate on 10000 samples\n",
      "Epoch 1/1\n",
      "4s - loss: 0.0216 - val_loss: 0.0563\n",
      "Flipped 751.0 training samples (1.8775 %)\n",
      "Mean IOU: 0.537927557793\n",
      "Mean dist: 0.0789594690559\n",
      "\n",
      "Epoch 34\n",
      "Train on 40000 samples, validate on 10000 samples\n",
      "Epoch 1/1\n",
      "4s - loss: 0.0215 - val_loss: 0.0558\n",
      "Flipped 774.0 training samples (1.935 %)\n",
      "Mean IOU: 0.525038210403\n",
      "Mean dist: 0.0818134408655\n",
      "\n",
      "Epoch 35\n",
      "Train on 40000 samples, validate on 10000 samples\n",
      "Epoch 1/1\n",
      "4s - loss: 0.0213 - val_loss: 0.0561\n",
      "Flipped 777.0 training samples (1.9425 %)\n",
      "Mean IOU: 0.539060265778\n",
      "Mean dist: 0.0774311544654\n",
      "\n",
      "Epoch 36\n",
      "Train on 40000 samples, validate on 10000 samples\n",
      "Epoch 1/1\n",
      "4s - loss: 0.0213 - val_loss: 0.0563\n",
      "Flipped 742.0 training samples (1.855 %)\n",
      "Mean IOU: 0.540322599552\n",
      "Mean dist: 0.0776645600821\n",
      "\n",
      "Epoch 37\n",
      "Train on 40000 samples, validate on 10000 samples\n",
      "Epoch 1/1\n",
      "4s - loss: 0.0211 - val_loss: 0.0564\n",
      "Flipped 771.0 training samples (1.9275 %)\n",
      "Mean IOU: 0.533745474506\n",
      "Mean dist: 0.0788337795559\n",
      "\n",
      "Epoch 38\n",
      "Train on 40000 samples, validate on 10000 samples\n",
      "Epoch 1/1\n",
      "4s - loss: 0.0210 - val_loss: 0.0559\n",
      "Flipped 710.0 training samples (1.775 %)\n",
      "Mean IOU: 0.537828049212\n",
      "Mean dist: 0.0781276750452\n",
      "\n",
      "Epoch 39\n",
      "Train on 40000 samples, validate on 10000 samples\n",
      "Epoch 1/1\n",
      "4s - loss: 0.0210 - val_loss: 0.0565\n",
      "Flipped 666.0 training samples (1.665 %)\n",
      "Mean IOU: 0.537717195805\n",
      "Mean dist: 0.0780453172558\n",
      "\n",
      "Epoch 40\n",
      "Train on 40000 samples, validate on 10000 samples\n",
      "Epoch 1/1\n",
      "4s - loss: 0.0208 - val_loss: 0.0562\n",
      "Flipped 765.0 training samples (1.9125 %)\n",
      "Mean IOU: 0.536087355366\n",
      "Mean dist: 0.0787861236678\n",
      "\n",
      "Epoch 41\n",
      "Train on 40000 samples, validate on 10000 samples\n",
      "Epoch 1/1\n",
      "4s - loss: 0.0205 - val_loss: 0.0567\n",
      "Flipped 674.0 training samples (1.685 %)\n",
      "Mean IOU: 0.544342451278\n",
      "Mean dist: 0.0764891585959\n",
      "\n",
      "Epoch 42\n",
      "Train on 40000 samples, validate on 10000 samples\n",
      "Epoch 1/1\n",
      "4s - loss: 0.0206 - val_loss: 0.0561\n",
      "Flipped 696.0 training samples (1.74 %)\n",
      "Mean IOU: 0.538981326683\n",
      "Mean dist: 0.0777417385232\n",
      "\n",
      "Epoch 43\n",
      "Train on 40000 samples, validate on 10000 samples\n",
      "Epoch 1/1\n",
      "4s - loss: 0.0205 - val_loss: 0.0564\n",
      "Flipped 648.0 training samples (1.62 %)\n",
      "Mean IOU: 0.539015426899\n",
      "Mean dist: 0.0771807135874\n",
      "\n",
      "Epoch 44\n",
      "Train on 40000 samples, validate on 10000 samples\n",
      "Epoch 1/1\n",
      "4s - loss: 0.0204 - val_loss: 0.0566\n",
      "Flipped 627.0 training samples (1.5675 %)\n",
      "Mean IOU: 0.544229123534\n",
      "Mean dist: 0.0759150881751\n",
      "\n",
      "Epoch 45\n",
      "Train on 40000 samples, validate on 10000 samples\n",
      "Epoch 1/1\n",
      "4s - loss: 0.0204 - val_loss: 0.0564\n",
      "Flipped 596.0 training samples (1.49 %)\n",
      "Mean IOU: 0.545409298404\n",
      "Mean dist: 0.0765501037944\n",
      "\n",
      "Epoch 46\n",
      "Train on 40000 samples, validate on 10000 samples\n",
      "Epoch 1/1\n",
      "4s - loss: 0.0204 - val_loss: 0.0560\n",
      "Flipped 631.0 training samples (1.5775 %)\n",
      "Mean IOU: 0.542919962167\n",
      "Mean dist: 0.0766910073689\n",
      "\n",
      "Epoch 47\n",
      "Train on 40000 samples, validate on 10000 samples\n",
      "Epoch 1/1\n",
      "4s - loss: 0.0201 - val_loss: 0.0567\n",
      "Flipped 759.0 training samples (1.8975 %)\n",
      "Mean IOU: 0.543450512949\n",
      "Mean dist: 0.0763397818658\n",
      "\n",
      "Epoch 48\n",
      "Train on 40000 samples, validate on 10000 samples\n",
      "Epoch 1/1\n",
      "4s - loss: 0.0202 - val_loss: 0.0570\n",
      "Flipped 701.0 training samples (1.7525 %)\n",
      "Mean IOU: 0.545041588618\n",
      "Mean dist: 0.0763403655117\n",
      "\n",
      "Epoch 49\n",
      "Train on 40000 samples, validate on 10000 samples\n",
      "Epoch 1/1\n",
      "4s - loss: 0.0201 - val_loss: 0.0566\n",
      "Flipped 566.0 training samples (1.415 %)\n",
      "Mean IOU: 0.548117733988\n",
      "Mean dist: 0.0750292489711\n",
      "\n"
     ]
    }
   ],
   "source": [
    "# Flip bboxes during training.\n",
    "# Note: The validation loss is always quite big here because we don't flip the bounding boxes for the validation data. \n",
    "def IOU(bbox1, bbox2):\n",
    "    '''Calculate overlap between two bounding boxes [x, y, w, h] as the area of intersection over the area of unity'''\n",
    "    x1, y1, w1, h1 = bbox1[0], bbox1[1], bbox1[2], bbox1[3]  # TODO: Check if its more performant if tensor elements are accessed directly below.\n",
    "    x2, y2, w2, h2 = bbox2[0], bbox2[1], bbox2[2], bbox2[3]\n",
    "\n",
    "    w_I = min(x1 + w1, x2 + w2) - max(x1, x2)\n",
    "    h_I = min(y1 + h1, y2 + h2) - max(y1, y2)\n",
    "    w_I = max(w_I, 0)  # set w_I and h_I zero if there is no intersection\n",
    "    h_I = max(h_I, 0)\n",
    "    I = w_I * h_I\n",
    "\n",
    "    U = w1 * h1 + w2 * h2 - I\n",
    "\n",
    "    return I / U\n",
    "\n",
    "def distance(bbox1, bbox2):\n",
    "    return np.sqrt(np.sum(np.square(bbox1[:2] - bbox2[:2])))\n",
    "\n",
    "num_epochs = 50\n",
    "flipped_train_y = np.array(train_y)\n",
    "flipped = np.zeros((len(flipped_train_y), num_epochs))\n",
    "ious = np.zeros((len(flipped_train_y), num_epochs))\n",
    "dists = np.zeros((len(flipped_train_y), num_epochs))\n",
    "\n",
    "for epoch in range(num_epochs):\n",
    "    print 'Epoch', epoch\n",
    "    model.fit(train_X, flipped_train_y, nb_epoch=1, validation_data=(test_X, test_y), verbose=2)\n",
    "    pred_y = model.predict(train_X)\n",
    "\n",
    "    for i, (pred_bboxes, exp_bboxes) in enumerate(zip(pred_y, flipped_train_y)):\n",
    "        \n",
    "        flipped_exp_bboxes = np.concatenate([exp_bboxes[4:], exp_bboxes[:4]])\n",
    "        \n",
    "        mse = np.mean(np.square(pred_bboxes - exp_bboxes))\n",
    "        mse_flipped = np.mean(np.square(pred_bboxes - flipped_exp_bboxes))\n",
    "        \n",
    "        iou = IOU(pred_bboxes[:4], exp_bboxes[:4]) + IOU(pred_bboxes[4:], exp_bboxes[4:])\n",
    "        iou_flipped = IOU(pred_bboxes[:4], flipped_exp_bboxes[:4]) + IOU(pred_bboxes[4:], flipped_exp_bboxes[4:])\n",
    "        \n",
    "        dist = distance(pred_bboxes[:4], exp_bboxes[:4]) + IOU(pred_bboxes[4:], exp_bboxes[4:])\n",
    "        dist_flipped = distance(pred_bboxes[:4], flipped_exp_bboxes[:4]) + IOU(pred_bboxes[4:], flipped_exp_bboxes[4:])\n",
    "        \n",
    "        if mse_flipped < mse:  # using iou or dist here leads to similar results\n",
    "            flipped_train_y[i] = flipped_exp_bboxes\n",
    "            flipped[i, epoch] = 1\n",
    "            ious[i, epoch] = iou_flipped / 2.\n",
    "            dists[i, epoch] = dist_flipped / 2.\n",
    "        else:\n",
    "            ious[i, epoch] = iou / 2.\n",
    "            dists[i, epoch] = dist / 2.\n",
    "            \n",
    "    print 'Flipped {} training samples ({} %)'.format(np.sum(flipped[:, epoch]), np.mean(flipped[:, epoch]) * 100.)\n",
    "    print 'Mean IOU: {}'.format(np.mean(ious[:, epoch]))\n",
    "    print 'Mean dist: {}'.format(np.mean(dists[:, epoch]))\n",
    "    print"
   ]
  },
  {
   "cell_type": "code",
   "execution_count": 9,
   "metadata": {
    "ExecuteTime": {
     "end_time": "2016-07-06T23:55:00.367000",
     "start_time": "2016-07-06T23:54:57.699000"
    }
   },
   "outputs": [
    {
     "data": {
      "text/plain": [
       "<matplotlib.text.Text at 0x1ee69c18>"
      ]
     },
     "execution_count": 9,
     "metadata": {},
     "output_type": "execute_result"
    },
    {
     "data": {
      "image/png": "[encoded data removed]",
      "text/plain": [
       "<matplotlib.figure.Figure at 0x1edc4208>"
      ]
     },
     "metadata": {},
     "output_type": "display_data"
    }
   ],
   "source": [
    "plt.pcolor(flipped[:1000], cmap='Greys')\n",
    "plt.xlabel('Epoch')\n",
    "plt.ylabel('Training sample')"
   ]
  },
  {
   "cell_type": "code",
   "execution_count": 10,
   "metadata": {
    "ExecuteTime": {
     "end_time": "2016-07-06T23:55:01.541000",
     "start_time": "2016-07-06T23:55:01.245000"
    }
   },
   "outputs": [
    {
     "data": {
      "text/plain": [
       "(0, 1)"
      ]
     },
     "execution_count": 10,
     "metadata": {},
     "output_type": "execute_result"
    },
    {
     "data": {
      "image/png": "[encoded data removed]",
      "text/plain": [
       "<matplotlib.figure.Figure at 0x1ede4390>"
      ]
     },
     "metadata": {},
     "output_type": "display_data"
    }
   ],
   "source": [
    "plt.plot(np.mean(ious, axis=0), label='Mean IOU')  # between predicted and assigned true bboxes\n",
    "plt.plot(np.mean(dists, axis=0), label='Mean distance')  # relative to image size\n",
    "plt.legend()\n",
    "plt.ylim(0, 1)"
   ]
  },
  {
   "cell_type": "code",
   "execution_count": 11,
   "metadata": {
    "ExecuteTime": {
     "end_time": "2016-07-06T23:55:02.905000",
     "start_time": "2016-07-06T23:55:02.569000"
    }
   },
   "outputs": [
    {
     "data": {
      "text/plain": [
       "((10000L, 2L, 4L), (10000L, 2L, 1L))"
      ]
     },
     "execution_count": 11,
     "metadata": {},
     "output_type": "execute_result"
    }
   ],
   "source": [
    "pred_y = model.predict(test_X)\n",
    "pred_y = pred_y.reshape(len(pred_y), num_objects, -1)\n",
    "pred_bboxes = pred_y[..., :4] * img_size\n",
    "pred_shapes = pred_y[..., 4:5]\n",
    "pred_bboxes.shape, pred_shapes.shape"
   ]
  },
  {
   "cell_type": "code",
   "execution_count": 31,
   "metadata": {
    "ExecuteTime": {
     "end_time": "2016-07-06T23:57:24.479000",
     "start_time": "2016-07-06T23:57:22.606000"
    }
   },
   "outputs": [
    {
     "data": {
      "image/png": "[encoded data removed]",
      "text/plain": [
       "<matplotlib.figure.Figure at 0x257bab00>"
      ]
     },
     "metadata": {},
     "output_type": "display_data"
    }
   ],
   "source": [
    "plt.figure(figsize=(16, 8))\n",
    "for i_subplot in range(1, 5):\n",
    "    plt.subplot(1, 4, i_subplot)\n",
    "    i = np.random.randint(len(test_X))\n",
    "    plt.imshow(test_imgs[i].T, cmap='Greys', interpolation='none', origin='lower', extent=[0, img_size, 0, img_size])\n",
    "    for pred_bbox, exp_bbox, pred_shape in zip(pred_bboxes[i], test_bboxes[i], pred_shapes[i]):\n",
    "        plt.gca().add_patch(matplotlib.patches.Rectangle((pred_bbox[0], pred_bbox[1]), pred_bbox[2], pred_bbox[3], ec='r' if pred_shape[0] <= 0.5 else 'y', fc='none'))\n",
    "        # TODO: Calculate max IOU with all expected bounding boxes.\n",
    "#         plt.annotate('IOU: {:.2f}'.format(IOU(pred_bbox, exp_bbox)), (pred_bbox[0], pred_bbox[1]+pred_bbox[3]+0.4), color='r')\n",
    "\n",
    "# plt.savefig('plots/bw-two-rectangles-or-triangles4.png', dpi=300)"
   ]
  },
  {
   "cell_type": "code",
   "execution_count": null,
   "metadata": {
    "collapsed": true
   },
   "outputs": [],
   "source": []
  }
 ],
 "metadata": {
  "kernelspec": {
   "display_name": "Python 3",
   "language": "python",
   "name": "python3"
  },
  "language_info": {
   "codemirror_mode": {
    "name": "ipython",
    "version": 3
   },
   "file_extension": ".py",
   "mimetype": "text/x-python",
   "name": "python",
   "nbconvert_exporter": "python",
   "pygments_lexer": "ipython3",
   "version": "3.8.3"
  },
  "toc": {
   "nav_menu": {},
   "number_sections": true,
   "sideBar": true,
   "skip_h1_title": false,
   "title_cell": "Table of Contents",
   "title_sidebar": "Contents",
   "toc_cell": false,
   "toc_position": {},
   "toc_section_display": true,
   "toc_window_display": false
  }
 },
 "nbformat": 4,
 "nbformat_minor": 1
}
