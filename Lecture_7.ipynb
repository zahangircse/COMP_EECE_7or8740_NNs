{
 "cells": [
  {
   "cell_type": "markdown",
   "metadata": {},
   "source": [
    "### Example for Residusl and Inception units example"
   ]
  },
  {
   "cell_type": "code",
   "execution_count": 16,
   "metadata": {},
   "outputs": [],
   "source": [
    "import numpy as np\n",
    "import matplotlib.pyplot as plt\n",
    "from keras.preprocessing.sequence import pad_sequences\n",
    "from keras.models import Sequential\n",
    "import keras\n",
    "from keras.layers import Dense, Dropout, Activation, Conv2D, MaxPooling1D,GlobalAveragePooling2D, Embedding, Flatten, Input, add,concatenate\n",
    "from keras import optimizers"
   ]
  },
  {
   "cell_type": "markdown",
   "metadata": {},
   "source": [
    "### Example of Residual Units"
   ]
  },
  {
   "cell_type": "code",
   "execution_count": 17,
   "metadata": {},
   "outputs": [
    {
     "name": "stdout",
     "output_type": "stream",
     "text": [
      "__________________________________________________________________________________________________\n",
      "Layer (type)                    Output Shape         Param #     Connected to                     \n",
      "==================================================================================================\n",
      "input_12 (InputLayer)           (None, 224, 224, 3)  0                                            \n",
      "__________________________________________________________________________________________________\n",
      "conv2d_25 (Conv2D)              (None, 224, 224, 12) 336         input_12[0][0]                   \n",
      "__________________________________________________________________________________________________\n",
      "activation_25 (Activation)      (None, 224, 224, 12) 0           conv2d_25[0][0]                  \n",
      "__________________________________________________________________________________________________\n",
      "conv2d_26 (Conv2D)              (None, 224, 224, 12) 1308        activation_25[0][0]              \n",
      "__________________________________________________________________________________________________\n",
      "activation_26 (Activation)      (None, 224, 224, 12) 0           conv2d_26[0][0]                  \n",
      "__________________________________________________________________________________________________\n",
      "conv2d_27 (Conv2D)              (None, 224, 224, 12) 1308        activation_26[0][0]              \n",
      "__________________________________________________________________________________________________\n",
      "activation_27 (Activation)      (None, 224, 224, 12) 0           conv2d_27[0][0]                  \n",
      "__________________________________________________________________________________________________\n",
      "add_7 (Add)                     (None, 224, 224, 12) 0           activation_25[0][0]              \n",
      "                                                                 activation_27[0][0]              \n",
      "__________________________________________________________________________________________________\n",
      "global_average_pooling2d_3 (Glo (None, 12)           0           add_7[0][0]                      \n",
      "__________________________________________________________________________________________________\n",
      "predictions (Dense)             (None, 2)            26          global_average_pooling2d_3[0][0] \n",
      "==================================================================================================\n",
      "Total params: 2,978\n",
      "Trainable params: 2,978\n",
      "Non-trainable params: 0\n",
      "__________________________________________________________________________________________________\n"
     ]
    },
    {
     "name": "stderr",
     "output_type": "stream",
     "text": [
      "/usr/local/lib/python2.7/dist-packages/ipykernel_launcher.py:20: UserWarning: Update your `Model` call to the Keras 2 API: `Model(outputs=[<tf.Tenso..., inputs=[<tf.Tenso...)`\n"
     ]
    }
   ],
   "source": [
    "\n",
    "activation='relu'\n",
    "n_filters = 12\n",
    "kernel = (3,3)\n",
    "strides = 1\n",
    "nm_classes = 2\n",
    "\n",
    "\n",
    "inputs = Input(shape=(224,224,3))\n",
    "conv1 = Conv2D(n_filters, kernel_size= kernel, strides = strides, padding='same', data_format='channels_last')(inputs)\n",
    "conv1 = Activation(activation)(conv1)\n",
    "conv2 = Conv2D(n_filters, kernel_size= kernel, strides = strides, padding='same', data_format='channels_last')(conv1)\n",
    "conv2 = Activation(activation)(conv2)\n",
    "conv3 = Conv2D(n_filters, kernel_size= kernel, strides = strides, padding='same', data_format='channels_last')(conv2)\n",
    "conv3 = Activation(activation)(conv3)\n",
    "res_conv = add([conv1,conv3])\n",
    "\n",
    "avgp = GlobalAveragePooling2D()(res_conv)\n",
    "outputs = Dense(nm_classes, activation='sigmoid', name='predictions')(avgp)\n",
    "Resblock = keras.Model(inputs = [inputs],output = [outputs])\n",
    "\n",
    "Resblock.summary()"
   ]
  },
  {
   "cell_type": "markdown",
   "metadata": {},
   "source": [
    "### Example of Inception Units"
   ]
  },
  {
   "cell_type": "code",
   "execution_count": 19,
   "metadata": {},
   "outputs": [
    {
     "name": "stdout",
     "output_type": "stream",
     "text": [
      "__________________________________________________________________________________________________\n",
      "Layer (type)                    Output Shape         Param #     Connected to                     \n",
      "==================================================================================================\n",
      "input_14 (InputLayer)           (None, 224, 224, 3)  0                                            \n",
      "__________________________________________________________________________________________________\n",
      "conv2d_31 (Conv2D)              (None, 224, 224, 12) 912         input_14[0][0]                   \n",
      "__________________________________________________________________________________________________\n",
      "activation_31 (Activation)      (None, 224, 224, 12) 0           conv2d_31[0][0]                  \n",
      "__________________________________________________________________________________________________\n",
      "conv2d_32 (Conv2D)              (None, 224, 224, 12) 1308        activation_31[0][0]              \n",
      "__________________________________________________________________________________________________\n",
      "activation_32 (Activation)      (None, 224, 224, 12) 0           conv2d_32[0][0]                  \n",
      "__________________________________________________________________________________________________\n",
      "conv2d_33 (Conv2D)              (None, 224, 224, 12) 156         activation_32[0][0]              \n",
      "__________________________________________________________________________________________________\n",
      "activation_33 (Activation)      (None, 224, 224, 12) 0           conv2d_33[0][0]                  \n",
      "__________________________________________________________________________________________________\n",
      "concatenate_2 (Concatenate)     (None, 224, 224, 36) 0           activation_31[0][0]              \n",
      "                                                                 activation_32[0][0]              \n",
      "                                                                 activation_33[0][0]              \n",
      "__________________________________________________________________________________________________\n",
      "global_average_pooling2d_5 (Glo (None, 36)           0           concatenate_2[0][0]              \n",
      "__________________________________________________________________________________________________\n",
      "predictions (Dense)             (None, 2)            74          global_average_pooling2d_5[0][0] \n",
      "==================================================================================================\n",
      "Total params: 2,450\n",
      "Trainable params: 2,450\n",
      "Non-trainable params: 0\n",
      "__________________________________________________________________________________________________\n"
     ]
    },
    {
     "name": "stderr",
     "output_type": "stream",
     "text": [
      "/usr/local/lib/python2.7/dist-packages/ipykernel_launcher.py:19: UserWarning: Update your `Model` call to the Keras 2 API: `Model(outputs=[<tf.Tenso..., inputs=[<tf.Tenso...)`\n"
     ]
    }
   ],
   "source": [
    "activation='relu'\n",
    "n_filters = 12\n",
    "kernel = (3,3)\n",
    "strides = 1\n",
    "nm_classes = 2\n",
    "channel_axis = -1\n",
    "\n",
    "inputs = Input(shape=(224,224,3))\n",
    "conv1 = Conv2D(n_filters, kernel_size= (5,5), strides = strides, padding='same', data_format='channels_last')(inputs)\n",
    "conv1 = Activation(activation)(conv1)\n",
    "conv2 = Conv2D(n_filters, kernel_size= (3,3), strides = strides, padding='same', data_format='channels_last')(conv1)\n",
    "conv2 = Activation(activation)(conv2)\n",
    "conv3 = Conv2D(n_filters, kernel_size= (1,1), strides = strides, padding='same', data_format='channels_last')(conv2)\n",
    "conv3 = Activation(activation)(conv3)\n",
    "incep_out = concatenate([conv1,conv2,conv3], axis=channel_axis)\n",
    "    \n",
    "avgp = GlobalAveragePooling2D()(incep_out)\n",
    "outputs = Dense(nm_classes, activation='sigmoid', name='predictions')(avgp)\n",
    "Resblock = keras.Model(inputs = [inputs],output = [outputs])\n",
    "\n",
    "Resblock.summary()"
   ]
  },
  {
   "cell_type": "markdown",
   "metadata": {},
   "source": [
    "### Example of Inception Residual Unit"
   ]
  },
  {
   "cell_type": "code",
   "execution_count": 20,
   "metadata": {},
   "outputs": [
    {
     "name": "stdout",
     "output_type": "stream",
     "text": [
      "__________________________________________________________________________________________________\n",
      "Layer (type)                    Output Shape         Param #     Connected to                     \n",
      "==================================================================================================\n",
      "input_15 (InputLayer)           (None, 224, 224, 3)  0                                            \n",
      "__________________________________________________________________________________________________\n",
      "conv2d_34 (Conv2D)              (None, 224, 224, 12) 336         input_15[0][0]                   \n",
      "__________________________________________________________________________________________________\n",
      "activation_34 (Activation)      (None, 224, 224, 12) 0           conv2d_34[0][0]                  \n",
      "__________________________________________________________________________________________________\n",
      "conv2d_35 (Conv2D)              (None, 224, 224, 12) 3612        activation_34[0][0]              \n",
      "__________________________________________________________________________________________________\n",
      "activation_35 (Activation)      (None, 224, 224, 12) 0           conv2d_35[0][0]                  \n",
      "__________________________________________________________________________________________________\n",
      "conv2d_36 (Conv2D)              (None, 224, 224, 24) 2616        activation_35[0][0]              \n",
      "__________________________________________________________________________________________________\n",
      "activation_36 (Activation)      (None, 224, 224, 24) 0           conv2d_36[0][0]                  \n",
      "__________________________________________________________________________________________________\n",
      "conv2d_37 (Conv2D)              (None, 224, 224, 24) 600         activation_36[0][0]              \n",
      "__________________________________________________________________________________________________\n",
      "activation_37 (Activation)      (None, 224, 224, 24) 0           conv2d_37[0][0]                  \n",
      "__________________________________________________________________________________________________\n",
      "concatenate_3 (Concatenate)     (None, 224, 224, 60) 0           activation_35[0][0]              \n",
      "                                                                 activation_36[0][0]              \n",
      "                                                                 activation_37[0][0]              \n",
      "__________________________________________________________________________________________________\n",
      "conv2d_38 (Conv2D)              (None, 224, 224, 12) 732         concatenate_3[0][0]              \n",
      "__________________________________________________________________________________________________\n",
      "activation_38 (Activation)      (None, 224, 224, 12) 0           conv2d_38[0][0]                  \n",
      "__________________________________________________________________________________________________\n",
      "add_9 (Add)                     (None, 224, 224, 12) 0           activation_34[0][0]              \n",
      "                                                                 activation_38[0][0]              \n",
      "__________________________________________________________________________________________________\n",
      "global_average_pooling2d_6 (Glo (None, 12)           0           add_9[0][0]                      \n",
      "__________________________________________________________________________________________________\n",
      "predictions (Dense)             (None, 2)            26          global_average_pooling2d_6[0][0] \n",
      "==================================================================================================\n",
      "Total params: 7,922\n",
      "Trainable params: 7,922\n",
      "Non-trainable params: 0\n",
      "__________________________________________________________________________________________________\n"
     ]
    },
    {
     "name": "stderr",
     "output_type": "stream",
     "text": [
      "/usr/local/lib/python2.7/dist-packages/ipykernel_launcher.py:28: UserWarning: Update your `Model` call to the Keras 2 API: `Model(outputs=[<tf.Tenso..., inputs=[<tf.Tenso...)`\n"
     ]
    }
   ],
   "source": [
    "activation='relu'\n",
    "n_filters = 12\n",
    "kernel = (3,3)\n",
    "strides = 1\n",
    "nm_classes = 2\n",
    "channel_axis = -1\n",
    "\n",
    "inputs = Input(shape=(224,224,3))\n",
    "\n",
    "in_conv1 = Conv2D(n_filters, kernel_size= (3,3), strides = strides, padding='same', data_format='channels_last')(inputs)\n",
    "in_conv1 = Activation(activation)(in_conv1)\n",
    "\n",
    "conv1 = Conv2D(n_filters, kernel_size= (5,5), strides = strides, padding='same', data_format='channels_last')(in_conv1)\n",
    "conv1 = Activation(activation)(conv1)\n",
    "conv2 = Conv2D(n_filters*2, kernel_size= (3,3), strides = strides, padding='same', data_format='channels_last')(conv1)\n",
    "conv2 = Activation(activation)(conv2)\n",
    "conv3 = Conv2D(n_filters*2, kernel_size= (1,1), strides = strides, padding='same', data_format='channels_last')(conv2)\n",
    "conv3 = Activation(activation)(conv3)\n",
    "incep_out = concatenate([conv1,conv2,conv3], axis=channel_axis)\n",
    "\n",
    "conv4 = Conv2D(n_filters, kernel_size= (1,1), strides = strides, padding='same', data_format='channels_last')(incep_out)\n",
    "conv4 = Activation(activation)(conv4)\n",
    "\n",
    "res_conv = add([in_conv1,conv4])\n",
    "    \n",
    "avgp = GlobalAveragePooling2D()(res_conv)\n",
    "outputs = Dense(nm_classes, activation='sigmoid', name='predictions')(avgp)\n",
    "Resblock = keras.Model(inputs = [inputs],output = [outputs])\n",
    "\n",
    "Resblock.summary()"
   ]
  },
  {
   "cell_type": "code",
   "execution_count": null,
   "metadata": {},
   "outputs": [],
   "source": []
  }
 ],
 "metadata": {
  "kernelspec": {
   "display_name": "Python 3",
   "language": "python",
   "name": "python3"
  },
  "language_info": {
   "codemirror_mode": {
    "name": "ipython",
    "version": 3
   },
   "file_extension": ".py",
   "mimetype": "text/x-python",
   "name": "python",
   "nbconvert_exporter": "python",
   "pygments_lexer": "ipython3",
   "version": "3.8.3"
  }
 },
 "nbformat": 4,
 "nbformat_minor": 2
}
